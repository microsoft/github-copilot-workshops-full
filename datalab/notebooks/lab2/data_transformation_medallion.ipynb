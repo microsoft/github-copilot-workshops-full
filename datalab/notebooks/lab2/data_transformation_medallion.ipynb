{
 "cells": [
  {
   "cell_type": "markdown",
   "metadata": {},
   "source": [
    "# Data Transformation Notebook\n",
    "\n",
    "This notebook demonstrates the process of transforming data from bronze to silver and then from silver to gold. Each transformation step is followed by a testing step to ensure data integrity and quality."
   ]
  },
  {
   "cell_type": "markdown",
   "metadata": {},
   "source": [
    "## 1. Bronze to Silver Transformation\n",
    "\n",
    "In this step, we will transform the raw data (bronze) into a more refined format (silver)."
   ]
  },
  {
   "cell_type": "code",
   "execution_count": null,
   "metadata": {},
   "outputs": [],
   "source": [
    "# Load the raw data (bronze)\n",
    "from pyspark.sql import SparkSession\n",
    "\n",
    "# Initialize Spark session\n",
    "spark = SparkSession.builder \\\n",
    "    .appName(\"Bronze to Silver Transformation\") \\\n",
    "    .getOrCreate()\n",
    "\n",
    "# Load the dataset (Bronze Layer)\n",
    "df_bronze = spark.read.csv(\"datasets/2021.csv\", header=False)\n",
    "df_bronze.show(5)"
   ]
  },
  {
   "cell_type": "code",
   "execution_count": null,
   "metadata": {},
   "outputs": [],
   "source": [
    "# Perform the transformation to silver\n",
    "def bronze_to_silver(df):\n",
    "    # Define schema\n",
    "    schema = [\"OrderID\", \"OrderLine\", \"OrderDate\", \"CustomerName\", \"Email\", \"Product\", \"Quantity\", \"Price\", \"Tax\"]\n",
    "    # Apply schema to DataFrame\n",
    "    df = df.toDF(*schema)\n",
    "    return df\n",
    "\n",
    "df_silver = bronze_to_silver(df_bronze)\n",
    "df_silver.show(5)"
   ]
  },
  {
   "cell_type": "markdown",
   "metadata": {},
   "source": [
    "## 2. Testing the Bronze to Silver Transformation\n",
    "\n",
    "In this step, we will validate the transformation to ensure data integrity."
   ]
  },
  {
   "cell_type": "code",
   "execution_count": null,
   "metadata": {},
   "outputs": [],
   "source": [
    "# Validate the transformation\n",
    "expected_schema = [\"OrderID\", \"OrderLine\", \"OrderDate\", \"CustomerName\", \"Email\", \"Product\", \"Quantity\", \"Price\", \"Tax\"]\n",
    "assert df_silver.columns == expected_schema, 'Schema does not match!'\n",
    "print('Bronze to Silver transformation is valid.')"
   ]
  },
  {
   "cell_type": "markdown",
   "metadata": {},
   "source": [
    "## 3. Silver to Gold Transformation\n",
    "\n",
    "In this step, we will further refine the silver data into a highly refined format (gold)."
   ]
  },
  {
   "cell_type": "code",
   "execution_count": null,
   "metadata": {},
   "outputs": [],
   "source": [
    "# Perform the transformation to gold\n",
    "from pyspark.sql.functions import col, split\n",
    "\n",
    "def silver_to_gold(df):\n",
    "    # Split Product column into ProductName and ProductDetails\n",
    "    df = df.withColumn(\"ProductName\", split(col(\"Product\"), \",\")[0]) \\\n",
    "           .withColumn(\"ProductDetails\", split(col(\"Product\"), \",\")[1])\n",
    "    # Drop the original Product column\n",
    "    df = df.drop(\"Product\")\n",
    "    return df\n",
    "\n",
    "df_gold = silver_to_gold(df_silver)\n",
    "df_gold.show(5)"
   ]
  },
  {
   "cell_type": "markdown",
   "metadata": {},
   "source": [
    "## 4. Testing the Silver to Gold Transformation\n",
    "\n",
    "In this step, we will validate the final transformation to ensure data quality."
   ]
  },
  {
   "cell_type": "code",
   "execution_count": null,
   "metadata": {},
   "outputs": [],
   "source": [
    "# Validate the transformation\n",
    "expected_schema = [\"OrderID\", \"OrderLine\", \"OrderDate\", \"CustomerName\", \"Email\", \"Quantity\", \"Price\", \"Tax\", \"ProductName\", \"ProductDetails\"]\n",
    "assert df_gold.columns == expected_schema, 'Schema does not match!'\n",
    "print('Silver to Gold transformation is valid.')"
   ]
  }
 ],
 "metadata": {
  "kernelspec": {
   "display_name": "Python 3",
   "language": "python",
   "name": "python3"
  },
  "language_info": {
   "codemirror_mode": {
    "name": "ipython",
    "version": 3
   },
   "file_extension": ".py",
   "mimetype": "text/x-python",
   "name": "python",
   "nbconvert_exporter": "python",
   "pygments_lexer": "ipython3",
   "version": "3.8.5"
  }
 },
 "nbformat": 4,
 "nbformat_minor": 4
}
