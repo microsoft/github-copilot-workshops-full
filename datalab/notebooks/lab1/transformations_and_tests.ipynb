{
 "cells": [
  {
   "cell_type": "markdown",
   "id": "fdd19a83",
   "metadata": {},
   "source": [
    "# Data Transformation and Testing\n",
    "This notebook demonstrates the data transformation process using PySpark and validates the transformations using pytest."
   ]
  },
  {
   "cell_type": "code",
   "execution_count": 1,
   "id": "0943d20d",
   "metadata": {},
   "outputs": [],
   "source": [
    "# Import necessary libraries\n",
    "from pyspark.sql import SparkSession\n",
    "from pyspark.sql.functions import col, split"
   ]
  },
  {
   "cell_type": "markdown",
   "id": "ee066b37",
   "metadata": {},
   "source": [
    "## Initialize Spark Session\n",
    "Create a Spark session to work with the dataset."
   ]
  },
  {
   "cell_type": "code",
   "execution_count": 2,
   "id": "da231782",
   "metadata": {},
   "outputs": [],
   "source": [
    "# Initialize Spark session\n",
    "spark = SparkSession.builder \\\n",
    "    .appName(\"Data Transformation\") \\\n",
    "    .getOrCreate()"
   ]
  },
  {
   "cell_type": "markdown",
   "id": "0ba5616a",
   "metadata": {},
   "source": [
    "## Load the Dataset\n",
    "Load the dataset from the CSV file."
   ]
  },
  {
   "cell_type": "code",
   "execution_count": 3,
   "id": "a9193ad6",
   "metadata": {},
   "outputs": [],
   "source": [
    "# Load the dataset\n",
    "df = spark.read.csv(\"datasets/2021.csv\", header=False)"
   ]
  },
  {
   "cell_type": "markdown",
   "id": "2e7e28da",
   "metadata": {},
   "source": [
    "## Define Schema\n",
    "Define the schema for the dataset."
   ]
  },
  {
   "cell_type": "code",
   "execution_count": 4,
   "id": "c61b0d77",
   "metadata": {},
   "outputs": [],
   "source": [
    "# Define schema\n",
    "schema = [\"OrderID\", \"OrderLine\", \"OrderDate\", \"CustomerName\", \"Email\", \"Product\", \"Quantity\", \"Price\", \"Tax\"]"
   ]
  },
  {
   "cell_type": "markdown",
   "id": "df824937",
   "metadata": {},
   "source": [
    "## Apply Schema\n",
    "Apply the defined schema to the DataFrame."
   ]
  },
  {
   "cell_type": "code",
   "execution_count": 5,
   "id": "d3fb67f4",
   "metadata": {},
   "outputs": [],
   "source": [
    "# Apply schema to DataFrame\n",
    "df = df.toDF(*schema)"
   ]
  },
  {
   "cell_type": "markdown",
   "id": "ba071083",
   "metadata": {},
   "source": [
    "## Split Product Column\n",
    "Split the `Product` column into `ProductName` and `ProductDetails`."
   ]
  },
  {
   "cell_type": "code",
   "execution_count": 6,
   "id": "d50a41fe",
   "metadata": {},
   "outputs": [],
   "source": [
    "# Split Product column into ProductName and ProductDetails\n",
    "df = df.withColumn(\"ProductName\", split(col(\"Product\"), \",\")[0]) \\\n",
    "       .withColumn(\"ProductDetails\", split(col(\"Product\"), \",\")[1])"
   ]
  },
  {
   "cell_type": "markdown",
   "id": "d2a2d4ed",
   "metadata": {},
   "source": [
    "## Drop Original Product Column\n",
    "Drop the original `Product` column from the DataFrame."
   ]
  },
  {
   "cell_type": "code",
   "execution_count": 7,
   "id": "3ef02962",
   "metadata": {},
   "outputs": [],
   "source": [
    "# Drop the original Product column\n",
    "df = df.drop(\"Product\")"
   ]
  },
  {
   "cell_type": "markdown",
   "id": "44bc22d5",
   "metadata": {},
   "source": [
    "## Show Transformed DataFrame\n",
    "Display the transformed DataFrame."
   ]
  },
  {
   "cell_type": "code",
   "execution_count": 8,
   "id": "ed3e17fa",
   "metadata": {},
   "outputs": [
    {
     "name": "stdout",
     "output_type": "stream",
     "text": [
      "+--------+---------+----------+-------------+----------------------------+--------+---------+--------+----------------+---------------+\n",
      "| OrderID|OrderLine| OrderDate| CustomerName|                       Email|Quantity|    Price|     Tax|      ProductName| ProductDetails|\n",
      "+--------+---------+----------+-------------+----------------------------+--------+---------+--------+----------------+---------------+\n",
      "| SO49171|        1|2021-01-01|Mariah Foster|mariah21@adventure-works.com|       1|2181.5625| 174.525|   Road-250 Black|             48|\n",
      "| SO49172|        1|2021-01-01| Brian Howard| brian23@adventure-works.com|       1| 2443.35 |195.468 |     Road-250 Red|             44|\n",
      "| SO49173|        1|2021-01-01| Linda Alvarez| linda19@adventure-works.com|       1|2071.4196|165.7136|Mountain-200 Silver|             38|\n",
      "| SO49174|        1|2021-01-01|Gina Hernandez| gina4@adventure-works.com|       1|2071.4196|165.7136|Mountain-200 Silver|             42|\n",
      "| SO49178|        1|2021-01-01|    Beth Ruiz|   beth4@adventure-works.com|       1|1000.4375|  80.035| Road-550-W Yellow|             44|\n",
      "+--------+---------+----------+-------------+----------------------------+--------+---------+--------+----------------+---------------+\n"
     ]
    }
   ],
   "source": [
    "# Show transformed DataFrame\n",
    "df.show()"
   ]
  },
  {
   "cell_type": "markdown",
   "id": "b3b41ea3",
   "metadata": {},
   "source": [
    "## Save Transformed DataFrame\n",
    "Save the transformed DataFrame to a new CSV file."
   ]
  },
  {
   "cell_type": "code",
   "execution_count": 9,
   "id": "ad0a6974",
   "metadata": {},
   "outputs": [],
   "source": [
    "# Save the transformed DataFrame to a new CSV file\n",
    "df.write.csv(\"datasets/transformed_2021.csv\", header=True)"
   ]
  },
  {
   "cell_type": "markdown",
   "id": "35e3239a",
   "metadata": {},
   "source": [
    "## Stop Spark Session\n",
    "Stop the Spark session."
   ]
  },
  {
   "cell_type": "code",
   "execution_count": 10,
   "id": "1ac5ca83",
   "metadata": {},
   "outputs": [],
   "source": [
    "# Stop the Spark session\n",
    "spark.stop()"
   ]
  },
  {
   "cell_type": "markdown",
   "id": "37f0a204",
   "metadata": {},
   "source": [
    "# Data Transformation Testing\n",
    "Use pytest to validate the data transformation."
   ]
  },
  {
   "cell_type": "code",
   "execution_count": 11,
   "id": "018ad128",
   "metadata": {},
   "outputs": [],
   "source": [
    "# Import necessary libraries for testing\n",
    "import pytest\n",
    "from pyspark.sql import SparkSession\n",
    "from pyspark.sql.functions import col, split"
   ]
  },
  {
   "cell_type": "markdown",
   "id": "36e5170b",
   "metadata": {},
   "source": [
    "## Initialize Spark Session for Testing\n",
    "Create a Spark session for testing."
   ]
  },
  {
   "cell_type": "code",
   "execution_count": 12,
   "id": "acfd6fd3",
   "metadata": {},
   "outputs": [],
   "source": [
    "# Initialize Spark session for testing\n",
    "spark = SparkSession.builder \\\n",
    "    .appName(\"Data Transformation Test\") \\\n",
    "    .getOrCreate()"
   ]
  },
  {
   "cell_type": "markdown",
   "id": "7bceac92",
   "metadata": {},
   "source": [
    "## Load Transformed Dataset\n",
    "Load the transformed dataset for testing."
   ]
  },
  {
   "cell_type": "code",
   "execution_count": 13,
   "id": "8a8d8b21",
   "metadata": {},
   "outputs": [],
   "source": [
    "# Load the transformed dataset\n",
    "df = spark.read.csv(r\"datasets/transformed_2021.csv\", header=True)"
   ]
  },
  {
   "cell_type": "markdown",
   "id": "4db67c0a",
   "metadata": {},
   "source": [
    "## Test Schema\n",
    "Validate the schema of the transformed dataset."
   ]
  },
  {
   "cell_type": "code",
   "execution_count": 14,
   "id": "7d7ecd18",
   "metadata": {},
   "outputs": [],
   "source": [
    "# Test schema\n",
    "expected_schema = [\"OrderID\", \"OrderLine\", \"OrderDate\", \"CustomerName\", \"Email\", \"Quantity\", \"Price\", \"Tax\", \"ProductName\", \"ProductDetails\"]\n",
    "assert df.columns == expected_schema"
   ]
  },
  {
   "cell_type": "markdown",
   "id": "e0115839",
   "metadata": {},
   "source": [
    "## Test Product Split\n",
    "Validate the split of the `Product` column into `ProductName` and `ProductDetails`."
   ]
  },
  {
   "cell_type": "code",
   "execution_count": 15,
   "id": "b368c2e4",
   "metadata": {},
   "outputs": [],
   "source": [
    "# Test product split\n",
    "sample_row = df.filter(col(\"OrderID\") == \"SO49171\").collect()[0]\n",
    "assert sample_row[\"ProductName\"] == \"Road-250 Black\"\n",
    "assert sample_row[\"ProductDetails\"].strip() == \"48\""
   ]
  },
  {
   "cell_type": "markdown",
   "id": "18806fd3",
   "metadata": {},
   "source": [
    "## Test Row Count\n",
    "Validate the row count of the transformed dataset."
   ]
  },
  {
   "cell_type": "code",
   "execution_count": 16,
   "id": "fdd85dfe",
   "metadata": {},
   "outputs": [],
   "source": [
    "# Test row count\n",
    "original_row_count = 28784  # Replace with the actual row count of the original dataset\n",
    "assert df.count() == original_row_count"
   ]
  },
  {
   "cell_type": "markdown",
   "id": "421d500b",
   "metadata": {},
   "source": [
    "## Test Data Integrity\n",
    "Validate the integrity of the data in the transformed dataset."
   ]
  },
  {
   "cell_type": "code",
   "execution_count": 17,
   "id": "510e0cac",
   "metadata": {},
   "outputs": [],
   "source": [
    "# Test data integrity\n",
    "sample_row = df.filter(col(\"OrderID\") == \"SO49171\").collect()[0]\n",
    "assert sample_row[\"CustomerName\"] == \"Mariah Foster\"\n",
    "assert sample_row[\"Email\"] == \"mariah21@adventure-works.com\"\n",
    "assert sample_row[\"Quantity\"] == \"1\"\n",
    "assert sample_row[\"Price\"] == \"2181.5625\"\n",
    "assert sample_row[\"Tax\"] == \"174.525\""
   ]
  },
  {
   "cell_type": "markdown",
   "id": "8b38b892",
   "metadata": {},
   "source": [
    "## Stop Spark Session for Testing\n",
    "Stop the Spark session after testing."
   ]
  },
  {
   "cell_type": "code",
   "execution_count": 18,
   "id": "69a62209",
   "metadata": {},
   "outputs": [],
   "source": [
    "# Stop the Spark session\n",
    "spark.stop()"
   ]
  }
 ],
 "metadata": {
  "kernelspec": {
   "display_name": "Python 3",
   "language": "python",
   "name": "python3"
  },
  "language_info": {
   "codemirror_mode": {
    "name": "ipython",
    "version": 3
   },
   "file_extension": ".py",
   "mimetype": "text/x-python",
   "name": "python",
   "nbconvert_exporter": "python",
   "pygments_lexer": "ipython3",
   "version": "3.8.8"
  }
 },
 "nbformat": 4,
 "nbformat_minor": 5
}
